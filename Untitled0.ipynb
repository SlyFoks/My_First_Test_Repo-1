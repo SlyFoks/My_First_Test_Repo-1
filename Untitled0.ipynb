{
  "nbformat": 4,
  "nbformat_minor": 0,
  "metadata": {
    "colab": {
      "provenance": [],
      "authorship_tag": "ABX9TyMFpxAcl5Qt9pSHHYnvPB1E",
      "include_colab_link": true
    },
    "kernelspec": {
      "name": "python3",
      "display_name": "Python 3"
    },
    "language_info": {
      "name": "python"
    }
  },
  "cells": [
    {
      "cell_type": "markdown",
      "metadata": {
        "id": "view-in-github",
        "colab_type": "text"
      },
      "source": [
        "<a href=\"https://colab.research.google.com/github/SlyFoks/My_First_Test_Repo-1/blob/main/Untitled0.ipynb\" target=\"_parent\"><img src=\"https://colab.research.google.com/assets/colab-badge.svg\" alt=\"Open In Colab\"/></a>"
      ]
    },
    {
      "cell_type": "markdown",
      "source": [
        "# Пример использования Markdown\n",
        "## нужно сделать:\n",
        "1. Список\n",
        "1. Рисунок\n",
        "1. Таблица\n",
        "1. Ссылка\n",
        "![alt text](https://s-a-t.ru/upload/iblock/e99/e99202728436b848b4cb4803b1199a7b.jpg)\n",
        "\n",
        "| СЫРЫ | КАМНИ | ИГРЫ |\n",
        "|----------|----------|----------|\n",
        "| Чечил    | Кварцит  | lethal company |\n",
        "| Камамбер   | Иризация | 7 days to die  |\n",
        "| Сулугуни   | Агальматолит   | Повестка  |\n",
        "\n",
        "Не нажимайте [сюда](https://www.nstu.ru) чтобы перейти на сайт НГТУ"
      ],
      "metadata": {
        "id": "JOKLPD0sNuAe"
      }
    }
  ]
}